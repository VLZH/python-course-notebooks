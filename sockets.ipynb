{
 "cells": [
  {
   "cell_type": "code",
   "execution_count": 1,
   "metadata": {},
   "outputs": [],
   "source": [
    "import socket"
   ]
  },
  {
   "cell_type": "markdown",
   "metadata": {},
   "source": [
    "После того как мы проимпортировали с вами модуль `socket`, мы можем создать новый сокет.\n",
    "\n",
    "- `socket.socket(family=AF_INET, type=SOCK_STREAM)`\n",
    "    Функция получает 2 аргумента:\n",
    "    - `family` - семейство адресов\n",
    "    - `type` - тип сокета\n",
    "- `socket.AF_INET` - ipv4 адрес\n",
    "- `socket.SOCK_STREAM` - `TCP` сокет\n",
    "\n",
    "- `sock` - объект сокета"
   ]
  },
  {
   "cell_type": "code",
   "execution_count": 2,
   "metadata": {},
   "outputs": [],
   "source": [
    "# sjck\n",
    "sock = socket.socket(socket.AF_INET, socket.SOCK_STREAM)"
   ]
  },
  {
   "cell_type": "markdown",
   "metadata": {},
   "source": [
    "После того как мы создали сокет(`sock`), нам следует его настроить. По умолчанию, даже если, сокет был закрыт верно_(о чем мы поговорим позже)_, мы не сможем сразу же открыть новый сокет на том же порту, от лица другого процесса.\n",
    "\n",
    "Это значит, что открыть новый сокет в том же процессе я смогу, но как только я перезапущу свой скрипт_(создам новый процесс)_, зарезервировать ранее используемый порт будет невозможно некоторое время.\n",
    "\n",
    "Для избежания подобного поведения, мы делаем следующую операцию:"
   ]
  },
  {
   "cell_type": "code",
   "execution_count": 3,
   "metadata": {},
   "outputs": [],
   "source": [
    "sock.setsockopt(socket.SOL_SOCKET, socket.SO_REUSEADDR, 1)"
   ]
  },
  {
   "cell_type": "markdown",
   "metadata": {},
   "source": [
    "А теперь давайте, привяжем сокет к адресу, для этого у сокета надо вызвать метод `bind` с одним аргументом(адресом, который мы планируем слушать)"
   ]
  },
  {
   "cell_type": "code",
   "execution_count": 4,
   "metadata": {},
   "outputs": [],
   "source": [
    "sock.bind(('0.0.0.0', 9999))"
   ]
  },
  {
   "cell_type": "markdown",
   "metadata": {},
   "source": [
    "Осталась буквально одна операция - мы должны начать получать соединения, для этого вызовем метод `listen` у сокета.\n",
    "\n",
    "`socket.listen` получает один аргумет - это кол-во соединений в очереди на обработку."
   ]
  },
  {
   "cell_type": "code",
   "execution_count": 5,
   "metadata": {},
   "outputs": [],
   "source": [
    "sock.listen(5)"
   ]
  },
  {
   "cell_type": "markdown",
   "metadata": {},
   "source": [
    "### Получение данных из сокета\n",
    "\n",
    "Теперь, после того как сокет настроен мы можем принимать соединения от клиентов. Кода в следующей ячейке будет побольше, и его следует объяснить.\n",
    "\n",
    "- В первую очередь мы стартуем бесконечный цикл\n",
    "- Внутри цикла мы будем получать соединения используя метод `sock.accept()`\n",
    "  \n",
    "  `sock.accept()` остановит работу интерпретатора до тех пор, пока соединение не будет получено, как только мы получим соединения из метода вернется кортеж с 2 элементами:\n",
    "  - `conn` - сокет для общения с клиентом\n",
    "  - `addr` - адрес клиента `(ip, port)`\n",
    "- После получения соединения(`conn`) мы должны начать получение данных из этого сокета, для этого вызовем метод `conn.recv`\n",
    "\n",
    "  `conn.recv()` получает сколько байт мы хотим прочитать, а точнее какой объем памяти под эти данные мы выделяем, естественно, что прочитав `1024` байтика мы можем и не получить весь объем информации которую отправляет нам клиент.\n",
    "  \n",
    "  Для того чтобы получить всю информацию, мы обернем операцию получения данных в цикл и как только все данные из сокета будут получены, мы выйдем из цикла с помощью инструкции `break`"
   ]
  },
  {
   "cell_type": "code",
   "execution_count": null,
   "metadata": {},
   "outputs": [],
   "source": [
    "while True:\n",
    "    conn, addr = sock.accept()\n",
    "    print(f\"New connection from client: {addr}\")\n",
    "    data = bytearray()\n",
    "    while True:\n",
    "        received_data = conn.recv(1024)\n",
    "        data += received_data\n",
    "        # следующая строчка может показаться вам непонятной... оооокей.. как бы\n",
    "        # выходим из цикла если получили ноль байт, но что значит проверка длины получнных данных?\n",
    "        # в действительности все просто, если полученных данных меньше чем размер буфера(1024) - это значит\n",
    "        # что все данные от клиента мы уже получили и следующего чанка(куска данных) ожидать не стоит\n",
    "        if not received_data or len(received_data) < 1024:\n",
    "            break\n",
    "    print(data)\n",
    "    conn.close()"
   ]
  },
  {
   "cell_type": "markdown",
   "metadata": {},
   "source": [
    "Отлично! мне уже нравится что мы написали, мы можем получать данные от клиента, но давайте сделаем следующее:\n",
    "\n",
    "- Мы будем получать от клиента картинки и сохранять их на диск\n",
    "  \n",
    "  Для отправки изображения вы можете воспользоваться следующей командой:\n",
    "  ```bash\n",
    "  cat <someimage.jpeg> | nc localhost 9999\n",
    "  ```\n",
    "- Есть некоторая проблемка - мы не можем определить разширение файла полученного через команду выше, поэтому мы доверимся клиенту и будем считать, что он оправляет нам изображения в формате `JPEG`.\n",
    "- Имя для файла с картинкой мы будем получать используя модуль `uuid`."
   ]
  },
  {
   "cell_type": "code",
   "execution_count": null,
   "metadata": {},
   "outputs": [
    {
     "name": "stdout",
     "output_type": "stream",
     "text": [
      "File will saved as: /var/folders/n4/6psz406s401cd4w7j0sly1gh0000gn/T/8a0f759ebb32410a8d3eb99c14a1183f.jpeg\n",
      "File will saved as: /var/folders/n4/6psz406s401cd4w7j0sly1gh0000gn/T/1cef6e90b347480d8b9cfe72e8cb89b9.jpeg\n"
     ]
    }
   ],
   "source": [
    "import os\n",
    "import uuid\n",
    "\n",
    "def get_random_filename():\n",
    "    \"\"\"Функция вернет случайный путь до файла с картинкой в временной папке\"\"\"\n",
    "    return os.path.join(os.getenv(\"TMPDIR\"), f\"{uuid.uuid4().hex}.jpeg\")\n",
    "\n",
    "while True:\n",
    "    conn, addr = sock.accept()\n",
    "    file_path = get_random_filename()\n",
    "    print(f\"File will be saved as: {file_path}\")\n",
    "    with open(file_path, \"wb\") as f:\n",
    "        while True:\n",
    "            chunk = conn.recv(1024)\n",
    "            f.write(chunk)\n",
    "            if not chunk or len(chunk) < 1024:\n",
    "                break\n",
    "    conn.close()"
   ]
  }
 ],
 "metadata": {
  "kernelspec": {
   "display_name": "Python 3",
   "language": "python",
   "name": "python3"
  },
  "language_info": {
   "codemirror_mode": {
    "name": "ipython",
    "version": 3
   },
   "file_extension": ".py",
   "mimetype": "text/x-python",
   "name": "python",
   "nbconvert_exporter": "python",
   "pygments_lexer": "ipython3",
   "version": "3.7.6"
  }
 },
 "nbformat": 4,
 "nbformat_minor": 2
}
