{
 "cells": [
  {
   "cell_type": "code",
   "execution_count": 9,
   "metadata": {},
   "outputs": [
    {
     "name": "stderr",
     "output_type": "stream",
     "text": [
      "ERROR:root:\n",
      "Traceback (most recent call last):\n",
      "  File \"<ipython-input-9-a219180e1345>\", line 9, in foo\n",
      "    return 10 / 0\n",
      "ZeroDivisionError: division by zero\n",
      "\n",
      "The above exception was the direct cause of the following exception:\n",
      "\n",
      "Traceback (most recent call last):\n",
      "  File \"<ipython-input-9-a219180e1345>\", line 20, in <module>\n",
      "    foo()\n",
      "  File \"<ipython-input-9-a219180e1345>\", line 11, in foo\n",
      "    raise FooException() from error\n",
      "FooException\n"
     ]
    }
   ],
   "source": [
    "import logging\n",
    "\n",
    "class FooException(Exception):\n",
    "    \"\"\"Это класс исключения для функции foo. Если в ходе работы функции произойдет какя-либо ошибка функция выкинет исключение именно этого класса\"\"\"\n",
    "    pass\n",
    "\n",
    "def foo():\n",
    "    try:\n",
    "        return 10 / 0\n",
    "    except Exception as error:\n",
    "        raise FooException() from error\n",
    "        \n",
    "def bar():\n",
    "    pass\n",
    "\n",
    "def baz():\n",
    "    pass\n",
    "\n",
    "try:\n",
    "    foo()\n",
    "    bar()\n",
    "    baz()\n",
    "except FooException as error:\n",
    "    # А какого черта произошла ошибка FooException? \n",
    "    logging.exception(error)"
   ]
  }
 ],
 "metadata": {
  "kernelspec": {
   "display_name": "Python 3",
   "language": "python",
   "name": "python3"
  },
  "language_info": {
   "codemirror_mode": {
    "name": "ipython",
    "version": 3
   },
   "file_extension": ".py",
   "mimetype": "text/x-python",
   "name": "python",
   "nbconvert_exporter": "python",
   "pygments_lexer": "ipython3",
   "version": "3.7.6"
  }
 },
 "nbformat": 4,
 "nbformat_minor": 2
}
