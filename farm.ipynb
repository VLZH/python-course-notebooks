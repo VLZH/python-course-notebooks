{
 "cells": [
  {
   "cell_type": "code",
   "execution_count": null,
   "metadata": {},
   "outputs": [],
   "source": [
    "import time\n",
    "\n",
    "class LiveObject:\n",
    "    all_live_objects = []\n",
    "    \n",
    "    def __init__(self):\n",
    "        LiveObject.all_live_objects.append(self)\n",
    "        self.ticks = 0\n",
    "    \n",
    "    def tick(self):\n",
    "        self.ticks += 1\n",
    "        \n",
    "class Animal(LiveObject):\n",
    "    period = None\n",
    "    \n",
    "    def __init__(self, nickname):\n",
    "        super().__init__()\n",
    "        self.nickname = nickname\n",
    "        \n",
    "    def tick(self):\n",
    "        super().tick()\n",
    "        if not self.period:\n",
    "            raise Exception(\"Друг! Все наследники должны иметь аттрибут period\")\n",
    "        if self.ticks % self.period == 0:\n",
    "            self.say()\n",
    "        \n",
    "    def say(self):\n",
    "        print(self.get_phase())\n",
    "        \n",
    "    def get_phase(self):\n",
    "        return f\"[{self.nickname}]Дай покушать!\"\n",
    "        \n",
    "class Cat(Animal):\n",
    "    period = 15\n",
    "            \n",
    "    def get_phase(self):\n",
    "        return super().get_phase() + \" Meow!\"\n",
    "    \n",
    "class Dog(Animal):\n",
    "    period = 30\n",
    "\n",
    "    \n",
    "cat1 = Cat(\"Barsik\")\n",
    "dog1 = Dog(\"Chapie\")\n",
    "\n",
    "while True:\n",
    "    for l_obj in LiveObject.all_live_objects:\n",
    "        l_obj.tick()\n",
    "    time.sleep(0.1)"
   ]
  }
 ],
 "metadata": {
  "kernelspec": {
   "display_name": "Python 3",
   "language": "python",
   "name": "python3"
  },
  "language_info": {
   "codemirror_mode": {
    "name": "ipython",
    "version": 3
   },
   "file_extension": ".py",
   "mimetype": "text/x-python",
   "name": "python",
   "nbconvert_exporter": "python",
   "pygments_lexer": "ipython3",
   "version": "3.7.6"
  }
 },
 "nbformat": 4,
 "nbformat_minor": 2
}
