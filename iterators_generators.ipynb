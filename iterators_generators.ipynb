{
 "cells": [
  {
   "cell_type": "markdown",
   "metadata": {},
   "source": [
    "# Итераторы и генераторы\n",
    "\n",
    "У нас в Python имеется два интерфейса:\n",
    "- Iterable  - Объект имеющий метод `__iter__`, возвращающий `Iterator`\n",
    "- Iterator  - Объект реализующий метод `__next__` и при окончании итерации вызывающий исключение `StopIteration`"
   ]
  },
  {
   "cell_type": "code",
   "execution_count": 14,
   "metadata": {},
   "outputs": [
    {
     "name": "stdout",
     "output_type": "stream",
     "text": [
      "=== OurIterator example ===\n",
      "0\n",
      "1\n",
      "2\n",
      "=== OurIterable example ===\n",
      "element 0 in iterable: 0\n",
      "element 1 in iterable: 10\n",
      "element 2 in iterable: 20\n",
      "element 3 in iterable: 30\n",
      "element 4 in iterable: 40\n",
      "element 5 in iterable: 50\n",
      "element 6 in iterable: 60\n",
      "element 7 in iterable: 70\n",
      "element 8 in iterable: 80\n",
      "element 9 in iterable: 90\n"
     ]
    }
   ],
   "source": [
    "class OurIterator:\n",
    "    def __init__(self, init_sequence=[]):\n",
    "        self.sequence = init_sequence\n",
    "        self.current_idx = 0\n",
    "\n",
    "    def __next__(self):\n",
    "        try:\n",
    "            v = self.sequence[self.current_idx]\n",
    "            self.current_idx += 1\n",
    "            return v\n",
    "        except IndexError:\n",
    "            raise StopIteration()\n",
    "\n",
    "class OurIterable:\n",
    "    def __init__(self, init_sequence=[]):\n",
    "        self._init_sequence = init_sequence\n",
    "        \n",
    "    def __iter__(self):\n",
    "        return OurIterator(self._init_sequence)\n",
    "\n",
    "\n",
    "print(\"=== OurIterator example ===\")\n",
    "iterator = OurIterator(list(range(3)))\n",
    "print(next(iterator)) # 1\n",
    "print(next(iterator)) # 2\n",
    "print(next(iterator)) # 3\n",
    "# print(next(iterator)) # StopIteration\n",
    "\n",
    "print(\"=== OurIterable example ===\")\n",
    "iterable = OurIterable(list(range(0, 100, 10)))\n",
    "for idx, v in enumerate(iterable):\n",
    "    print(f\"element {idx} in iterable: {v}\")"
   ]
  },
  {
   "cell_type": "markdown",
   "metadata": {},
   "source": [
    "# Генераторы"
   ]
  },
  {
   "cell_type": "code",
   "execution_count": 17,
   "metadata": {},
   "outputs": [
    {
     "name": "stdout",
     "output_type": "stream",
     "text": [
      "<generator object custom_enumerate at 0x10273e9d0>\n",
      "[(0, 'foo'), (1, 'bar'), (2, 'baz')]\n"
     ]
    }
   ],
   "source": [
    "def custom_enumerate(sequence):\n",
    "    c = 0\n",
    "    for i in sequence:\n",
    "        yield (c, i)\n",
    "        c += 1\n",
    "        \n",
    "l= [\"foo\", \"bar\", \"baz\"]\n",
    "print(custom_enumerate(l))\n",
    "print(list(custom_enumerate(l)))"
   ]
  },
  {
   "cell_type": "markdown",
   "metadata": {},
   "source": [
    "Сейчас я планирую показать вам более сложный генератор, умеющий получать значения. Интересное в этом то, что нам надо всегда понимать где интерпретатор останавливается при выполнении инструкций в генераторе.\n",
    "\n",
    "Представим следующий код:\n",
    "```python\n",
    "def duplex_generator():\n",
    "    res1 = yield 1\n",
    "    print(\"res1\", res1)\n",
    "```\n",
    "При вызове метода `__next__` генератора, он вытолкнет значение `1`\n",
    "```python\n",
    "gen = duplex_generator()\n",
    "next(gen) # 1\n",
    "```\n",
    "И как бы интерпретатор остановится в следующем месте(_обозначил в коде_)\n",
    "```python\n",
    "def duplex_generator():\n",
    "    #     👇 вот здесь\n",
    "    res1 = yield 1\n",
    "    print(\"res1\", res1)\n",
    "```\n",
    "Вы же можете увидеть что `yield` в этом примере является выражением, для того чтобы отправить значение для этого выражения у объекта генератора есть метод `send`.\n",
    "```python\n",
    "gen.send(\"bar\")\n",
    "```\n",
    "что приведет к тому, что отработает следующая инструкция:\n",
    "```python\n",
    "# ...\n",
    "    print(\"res1\", res1) # 'bar'\n",
    "```\n",
    "и на последок будет выкинуто исключение `StopIteration`."
   ]
  },
  {
   "cell_type": "code",
   "execution_count": null,
   "metadata": {},
   "outputs": [],
   "source": [
    "def duplex_generator():\n",
    "    res1 = yield 1\n",
    "    print(\"res1\", res1)\n",
    "    res2 = yield 2\n",
    "    print(\"res2\", res2)\n",
    "    \n",
    "gen = duplex_generator()\n",
    "v1 = next(gen)\n",
    "print(v1)\n",
    "v2 = gen.send(\"bar\") # 'res1 bar'\n",
    "print(v2)\n",
    "gen.send(\"foo\")\n",
    "pr\n"
   ]
  }
 ],
 "metadata": {
  "kernelspec": {
   "display_name": "Python 3",
   "language": "python",
   "name": "python3"
  },
  "language_info": {
   "codemirror_mode": {
    "name": "ipython",
    "version": 3
   },
   "file_extension": ".py",
   "mimetype": "text/x-python",
   "name": "python",
   "nbconvert_exporter": "python",
   "pygments_lexer": "ipython3",
   "version": "3.7.6"
  }
 },
 "nbformat": 4,
 "nbformat_minor": 2
}
