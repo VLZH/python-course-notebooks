{
 "cells": [
  {
   "cell_type": "markdown",
   "metadata": {},
   "source": [
    "# Логические операторы (`and`/`or`/`not`)\n",
    "\n",
    "- Логический оператор `or` - возвращает тот операнд который равен `True`\n",
    "- Логический оператор `and` - возвращает тот операнд который равен `False`\n",
    "- Логический оператор `not` - он инверсирует/переворачивает значение\n",
    "\n",
    "> #### Обратите внимание!\n",
    "> Операторы просматриваются слева на право"
   ]
  },
  {
   "cell_type": "code",
   "execution_count": 2,
   "metadata": {
    "scrolled": true
   },
   "outputs": [
    {
     "name": "stdout",
     "output_type": "stream",
     "text": [
      "'a' or 'b' more then 5\n"
     ]
    }
   ],
   "source": [
    "a = 5\n",
    "b = 6\n",
    "\n",
    "if (a > 5) and (b > 5):\n",
    "    print(\"'a' and 'b' more then 5\")\n",
    "\n",
    "if (a > 5) or (b > 5):\n",
    "    print(\"'a' or 'b' more then 5\")"
   ]
  },
  {
   "cell_type": "code",
   "execution_count": 5,
   "metadata": {},
   "outputs": [
    {
     "name": "stdout",
     "output_type": "stream",
     "text": [
      "Your command >div\n",
      "Ваше значение:div\n"
     ]
    }
   ],
   "source": [
    "command = input(\"Your command >\")\n",
    "if command == \"add\" and command != \"sub\" and command != \"mul\" and command != \"div\":\n",
    "    print(\"Вы ввели некорректное значение\")\n",
    "else:\n",
    "    print(\"Ваше значение:\" + command)"
   ]
  },
  {
   "cell_type": "code",
   "execution_count": 30,
   "metadata": {},
   "outputs": [
    {
     "name": "stdout",
     "output_type": "stream",
     "text": [
      "a\n",
      "4\n",
      "not False: True\n",
      "not 1: False\n"
     ]
    }
   ],
   "source": [
    "print( 0 or \"\" or \"a\" )\n",
    "print( 5 and 4 )\n",
    "\n",
    "# NOT\n",
    "print(\"not False:\", not False)\n",
    "print(\"not 1:\", not 1)"
   ]
  },
  {
   "cell_type": "code",
   "execution_count": 36,
   "metadata": {},
   "outputs": [
    {
     "name": "stdout",
     "output_type": "stream",
     "text": [
      "g in range 0-9(exclude)-∞\n"
     ]
    }
   ],
   "source": [
    "g = 7\n",
    "if g > 6 and not g == 9:\n",
    "    print(\"g in range 0-9(exclude)-\\u221E\")"
   ]
  },
  {
   "cell_type": "code",
   "execution_count": 25,
   "metadata": {},
   "outputs": [
    {
     "name": "stdout",
     "output_type": "stream",
     "text": [
      "Приветствуем тебя! Unknow user\n"
     ]
    }
   ],
   "source": [
    "first_name = \"\"\n",
    "last_name = \"\"\n",
    "full_name = \"\"\n",
    "\n",
    "print(f\"Приветствуем тебя! {first_name or last_name or full_name or 'Unknow user'}\")"
   ]
  },
  {
   "cell_type": "markdown",
   "metadata": {},
   "source": [
    "## Приведение к `bool`\n",
    "- `0` - False\n",
    "- `<>0` - True\n",
    "- `\"\"` - False\n",
    "- `\"a\"` - True"
   ]
  },
  {
   "cell_type": "code",
   "execution_count": 14,
   "metadata": {
    "scrolled": false
   },
   "outputs": [
    {
     "name": "stdout",
     "output_type": "stream",
     "text": [
      "Integer (0) False\n",
      "Integer (1) True\n",
      "Empty string('') False\n",
      "String('a') True\n",
      "Empty list([]) False\n",
      "List([1]) True\n"
     ]
    }
   ],
   "source": [
    "print(\"Integer (0)\", bool(0))\n",
    "print(\"Integer (1)\", bool(1))\n",
    "print(\"Empty string('')\", bool(\"\"))\n",
    "print(\"String('a')\", bool(\"a\"))\n",
    "# sequance\n",
    "print(\"Empty list([])\", bool([]))\n",
    "print(\"List([1])\", bool([1]))"
   ]
  },
  {
   "cell_type": "markdown",
   "metadata": {},
   "source": [
    "# Функции (functions)\n",
    "\n",
    "Объявляются(создание) с помощью конструкции:\n",
    "```\n",
    "def <func name>(<...arguments>):\n",
    "    <...statements>\n",
    "```\n",
    "\n",
    "### Зачем фукнции нужны:\n",
    "- Чтобы не повторять одни и те же инструкции много раз.\n",
    "  > **DRY(Dont repeat yourself)** - Не повторяй себя(а точнее одни и те же инструкции)\n",
    "- Разделять код на логические блоки.\n",
    "\n",
    "### Вызов функции\n",
    "Для того чтобы вызвать функцию, вам надо воспльзоваться оператором вызова функции - `()`. Пример:\n",
    "```python\n",
    "def some_function():\n",
    "    pass\n",
    "\n",
    "some_function() # Вызов функции\n",
    "```\n",
    "В круглых скобках, при вызове функции, передаются аргументы вызова функции\n",
    "```python\n",
    "def sum(a, b):\n",
    "    return a + b\n",
    "sum(3,5) # 8\n",
    "```"
   ]
  },
  {
   "cell_type": "code",
   "execution_count": 5,
   "metadata": {},
   "outputs": [
    {
     "name": "stdout",
     "output_type": "stream",
     "text": [
      "Hello world!\n",
      "Hello world!\n",
      "Hello world!\n",
      "Hello world!\n",
      "Hello world!\n",
      "Hello world!\n",
      "Hello world!\n",
      "Hello world!\n",
      "Hello world!\n",
      "Hello world!\n"
     ]
    }
   ],
   "source": [
    "def hello():\n",
    "    \"Эта функция пишет в консоль строку 'Hello world!'\"\n",
    "    print(\"Hello world!\")\n",
    "\n",
    "for i in range(10):\n",
    "    hello()"
   ]
  },
  {
   "cell_type": "markdown",
   "metadata": {},
   "source": [
    "### функция `hello` с одним аргументом"
   ]
  },
  {
   "cell_type": "code",
   "execution_count": 8,
   "metadata": {},
   "outputs": [
    {
     "name": "stdout",
     "output_type": "stream",
     "text": [
      "Hello world!0\n",
      "Hello world!1\n",
      "Hello world!2\n",
      "Hello world!3\n",
      "Hello world!4\n",
      "Hello world!5\n",
      "Hello world!6\n",
      "Hello world!7\n",
      "Hello world!8\n",
      "Hello world!9\n"
     ]
    }
   ],
   "source": [
    "def hello(a):\n",
    "    print(\"Hello world!\" + str(a))\n",
    "\n",
    "for i in range(10):\n",
    "    hello(i)"
   ]
  },
  {
   "cell_type": "code",
   "execution_count": 4,
   "metadata": {},
   "outputs": [
    {
     "name": "stdout",
     "output_type": "stream",
     "text": [
      "8\n"
     ]
    }
   ],
   "source": [
    "def sum(a, b):\n",
    "    result = a + b # Создаем переменную 'result' и ложим в нее сумму двух аргументов 'a' & 'b'\n",
    "    return result # Функция возвращает значение переменной 'result'\n",
    "\n",
    "print(sum(3, 5))"
   ]
  },
  {
   "cell_type": "markdown",
   "metadata": {},
   "source": [
    "#### Demo-function для отправки писем"
   ]
  },
  {
   "cell_type": "code",
   "execution_count": 29,
   "metadata": {},
   "outputs": [
    {
     "name": "stdout",
     "output_type": "stream",
     "text": [
      "Сообщение отправленно!\n",
      "Сообщение отправленно!\n"
     ]
    }
   ],
   "source": [
    "import requests\n",
    "TELEGRAM_TOKEN = \"1116132371:AAHLPsnzlZHTFGoG3tO6fiYDSkVPsnR1Dfw\"\n",
    "CHAT_ID = \"197562409\"\n",
    "def send_telegram_message(subject, text):\n",
    "    \"\"\"Функция для проверки данных и дальнейшей отправки письма\"\"\"\n",
    "    if not subject:\n",
    "        print(\"Эй чувак! Нельзя отправлять письмо без темы(subject)\")\n",
    "        return\n",
    "    if not text:\n",
    "        print(\"Эй чувак! Нельзя отправлять письмо без текста(text)\")\n",
    "        return\n",
    "    message = f\"{subject}\\n{text}\"\n",
    "    resp = requests.post(f\"https://api.telegram.org/bot{TELEGRAM_TOKEN}/sendMessage\", data={\n",
    "        \"chat_id\": CHAT_ID,\n",
    "        \"text\": message\n",
    "    })\n",
    "    if resp.status_code == 200:\n",
    "        print(\"Сообщение отправленно!\")\n",
    "    else:\n",
    "        print(\"Ошибка, код:\", resp.status_code)\n",
    "        print(\"Error info:\", resp.text)\n",
    "    \n",
    "send_telegram_message(\"Новый заказ на сайте\", \"На сайте появился новый заказ на сумму 5000сом\")\n",
    "send_telegram_message(\"Новый пользователь на сайте\", \"На сайте новый пользователь с ником love_love_312\")"
   ]
  },
  {
   "cell_type": "markdown",
   "metadata": {},
   "source": [
    "### Именованные агрументы\n",
    "Это передача аргументов не по их позиции в объявлении функции, а по их названию.\n",
    "\n",
    "Напиример:\n",
    "```python\n",
    "def sum(a, b):\n",
    "    return a + b\n",
    "\n",
    "sum(a=2, b=3) # передаю аргументы по их имени\n",
    "sum(b=2, a=3) # передаю аргументы по их имени\n",
    "```"
   ]
  },
  {
   "cell_type": "code",
   "execution_count": 26,
   "metadata": {},
   "outputs": [
    {
     "name": "stdout",
     "output_type": "stream",
     "text": [
      "sum a=2, b=3\n",
      "5\n",
      "sum a=3, b=7\n",
      "10\n"
     ]
    }
   ],
   "source": [
    "def sum(a, b):\n",
    "    print(f\"sum a={a}, b={b}\")\n",
    "    return a + b\n",
    "\n",
    "print(sum(a=2, b=3)) # передаю аргументы по их имени\n",
    "print(sum(b=7, a=3)) # передаю аргументы по их имени"
   ]
  },
  {
   "cell_type": "markdown",
   "metadata": {},
   "source": [
    "# Функции (functions)\n",
    "\n",
    "Объявляются(создание) с помощью конструкции:\n",
    "```\n",
    "def <func name>(<...arguments>):\n",
    "    <...statements>\n",
    "```\n",
    "\n",
    "### Зачем фукнции нужны:\n",
    "- Чтобы не повторять одни и те же инструкции много раз.\n",
    "  > **DRY(Dont repeat yourself)** - Не повторяй себя(а точнее одни и те же инструкции)\n",
    "- Разделять код на логические блоки.\n",
    "\n",
    "### Вызов функции\n",
    "Для того чтобы вызвать функцию, вам надо воспльзоваться оператором вызова функции - `()`. Пример:\n",
    "```python\n",
    "def some_function():\n",
    "    pass\n",
    "\n",
    "some_function() # Вызов функции\n",
    "```\n",
    "В круглых скобках, при вызове функции, передаются аргументы вызова функции\n",
    "```python\n",
    "def sum(a, b):\n",
    "    return a + b\n",
    "sum(3,5) # 8\n",
    "```"
   ]
  },
  {
   "cell_type": "code",
   "execution_count": 5,
   "metadata": {},
   "outputs": [
    {
     "name": "stdout",
     "output_type": "stream",
     "text": [
      "Hello world!\n",
      "Hello world!\n",
      "Hello world!\n",
      "Hello world!\n",
      "Hello world!\n",
      "Hello world!\n",
      "Hello world!\n",
      "Hello world!\n",
      "Hello world!\n",
      "Hello world!\n"
     ]
    }
   ],
   "source": [
    "def hello():\n",
    "    \"Эта функция пишет в консоль строку 'Hello world!'\"\n",
    "    print(\"Hello world!\")\n",
    "\n",
    "for i in range(10):\n",
    "    hello()"
   ]
  },
  {
   "cell_type": "markdown",
   "metadata": {},
   "source": [
    "### функция `hello` с одним аргументом"
   ]
  },
  {
   "cell_type": "code",
   "execution_count": 8,
   "metadata": {},
   "outputs": [
    {
     "name": "stdout",
     "output_type": "stream",
     "text": [
      "Hello world!0\n",
      "Hello world!1\n",
      "Hello world!2\n",
      "Hello world!3\n",
      "Hello world!4\n",
      "Hello world!5\n",
      "Hello world!6\n",
      "Hello world!7\n",
      "Hello world!8\n",
      "Hello world!9\n"
     ]
    }
   ],
   "source": [
    "def hello(a):\n",
    "    print(\"Hello world!\" + str(a))\n",
    "\n",
    "for i in range(10):\n",
    "    hello(i)"
   ]
  },
  {
   "cell_type": "code",
   "execution_count": 4,
   "metadata": {},
   "outputs": [
    {
     "name": "stdout",
     "output_type": "stream",
     "text": [
      "8\n"
     ]
    }
   ],
   "source": [
    "def sum(a, b):\n",
    "    result = a + b # Создаем переменную 'result' и ложим в нее сумму двух аргументов 'a' & 'b'\n",
    "    return result # Функция возвращает значение переменной 'result'\n",
    "\n",
    "print(sum(3, 5))"
   ]
  },
  {
   "cell_type": "markdown",
   "metadata": {},
   "source": [
    "#### Demo-function для отправки писем"
   ]
  },
  {
   "cell_type": "code",
   "execution_count": 29,
   "metadata": {},
   "outputs": [
    {
     "name": "stdout",
     "output_type": "stream",
     "text": [
      "Сообщение отправленно!\n",
      "Сообщение отправленно!\n"
     ]
    }
   ],
   "source": [
    "import requests\n",
    "TELEGRAM_TOKEN = \"1116132371:AAHLPsnzlZHTFGoG3tO6fiYDSkVPsnR1Dfw\"\n",
    "CHAT_ID = \"197562409\"\n",
    "def send_telegram_message(subject, text):\n",
    "    \"\"\"Функция для проверки данных и дальнейшей отправки письма\"\"\"\n",
    "    if not subject:\n",
    "        print(\"Эй чувак! Нельзя отправлять письмо без темы(subject)\")\n",
    "        return\n",
    "    if not text:\n",
    "        print(\"Эй чувак! Нельзя отправлять письмо без текста(text)\")\n",
    "        return\n",
    "    message = f\"{subject}\\n{text}\"\n",
    "    resp = requests.post(f\"https://api.telegram.org/bot{TELEGRAM_TOKEN}/sendMessage\", data={\n",
    "        \"chat_id\": CHAT_ID,\n",
    "        \"text\": message\n",
    "    })\n",
    "    if resp.status_code == 200:\n",
    "        print(\"Сообщение отправленно!\")\n",
    "    else:\n",
    "        print(\"Ошибка, код:\", resp.status_code)\n",
    "        print(\"Error info:\", resp.text)\n",
    "    \n",
    "send_telegram_message(\"Новый заказ на сайте\", \"На сайте появился новый заказ на сумму 5000сом\")\n",
    "send_telegram_message(\"Новый пользователь на сайте\", \"На сайте новый пользователь с ником love_love_312\")"
   ]
  },
  {
   "cell_type": "markdown",
   "metadata": {},
   "source": [
    "### Именованные агрументы\n",
    "Это передача аргументов не по их позиции в объявлении функции, а по их названию.\n",
    "\n",
    "Напиример:\n",
    "```python\n",
    "def sum(a, b):\n",
    "    return a + b\n",
    "\n",
    "sum(a=2, b=3) # передаю аргументы по их имени\n",
    "sum(b=2, a=3) # передаю аргументы по их имени\n",
    "```"
   ]
  },
  {
   "cell_type": "code",
   "execution_count": 26,
   "metadata": {},
   "outputs": [
    {
     "name": "stdout",
     "output_type": "stream",
     "text": [
      "sum a=2, b=3\n",
      "5\n",
      "sum a=3, b=7\n",
      "10\n"
     ]
    }
   ],
   "source": [
    "def sum(a, b):\n",
    "    print(f\"sum a={a}, b={b}\")\n",
    "    return a + b\n",
    "\n",
    "print(sum(a=2, b=3)) # передаю аргументы по их имени\n",
    "print(sum(b=7, a=3)) # передаю аргументы по их имени"
   ]
  }
 ],
 "metadata": {
  "kernelspec": {
   "display_name": "Python 3",
   "language": "python",
   "name": "python3"
  },
  "language_info": {
   "codemirror_mode": {
    "name": "ipython",
    "version": 3
   },
   "file_extension": ".py",
   "mimetype": "text/x-python",
   "name": "python",
   "nbconvert_exporter": "python",
   "pygments_lexer": "ipython3",
   "version": "3.7.6"
  }
 },
 "nbformat": 4,
 "nbformat_minor": 2
}
