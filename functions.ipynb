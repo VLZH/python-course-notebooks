{
 "cells": [
  {
   "cell_type": "markdown",
   "metadata": {},
   "source": [
    "# Функции (functions)\n",
    "\n",
    "Объявляются(создание) с помощью конструкции:\n",
    "```\n",
    "def <func name>(<...arguments>):\n",
    "    <...statements>\n",
    "```\n",
    "\n",
    "### Зачем фукции нужны:\n",
    "- Чтобы не повторять одни и те же инструкции много раз.\n",
    "  > **DRY(Dont repeat yourself)** - Не повторяй себя(а точнее одни и те же инструкции)\n",
    "- Разделять код на логические блоки.\n",
    "\n",
    "### Вызов функции\n",
    "Для того чтобы вызвать функцию, вам надо воспльзоваться оператором вызова функции - `()`. Пример:\n",
    "```python\n",
    "def some_function():\n",
    "    pass\n",
    "\n",
    "some_function() # Вызов функции\n",
    "```\n",
    "В круглых скобках, при вызове функции, передаются аргументы вызова функции\n",
    "```python\n",
    "def sum(a, b):\n",
    "    return a + b\n",
    "sum(3,5) # 8\n",
    "```"
   ]
  },
  {
   "cell_type": "code",
   "execution_count": 5,
   "metadata": {},
   "outputs": [
    {
     "name": "stdout",
     "output_type": "stream",
     "text": [
      "Hello world!\n",
      "Hello world!\n",
      "Hello world!\n",
      "Hello world!\n",
      "Hello world!\n",
      "Hello world!\n",
      "Hello world!\n",
      "Hello world!\n",
      "Hello world!\n",
      "Hello world!\n"
     ]
    }
   ],
   "source": [
    "def hello():\n",
    "    \"Эта функция пишет в консоль строку 'Hello world!'\"\n",
    "    print(\"Hello world!\")\n",
    "\n",
    "for i in range(10):\n",
    "    hello()"
   ]
  },
  {
   "cell_type": "markdown",
   "metadata": {},
   "source": [
    "### функция `hello` с одним аргументом"
   ]
  },
  {
   "cell_type": "code",
   "execution_count": 8,
   "metadata": {},
   "outputs": [
    {
     "name": "stdout",
     "output_type": "stream",
     "text": [
      "Hello world!0\n",
      "Hello world!1\n",
      "Hello world!2\n",
      "Hello world!3\n",
      "Hello world!4\n",
      "Hello world!5\n",
      "Hello world!6\n",
      "Hello world!7\n",
      "Hello world!8\n",
      "Hello world!9\n"
     ]
    }
   ],
   "source": [
    "def hello(a):\n",
    "    print(\"Hello world!\" + str(a))\n",
    "\n",
    "for i in range(10):\n",
    "    hello(i)"
   ]
  },
  {
   "cell_type": "code",
   "execution_count": 4,
   "metadata": {},
   "outputs": [
    {
     "name": "stdout",
     "output_type": "stream",
     "text": [
      "8\n"
     ]
    }
   ],
   "source": [
    "def sum(a, b):\n",
    "    result = a + b # Создаем переменную 'result' и ложим в нее сумму двух аргументов 'a' & 'b'\n",
    "    return result # Функция возвращает значение переменной 'result'\n",
    "\n",
    "print(sum(3, 5))"
   ]
  },
  {
   "cell_type": "markdown",
   "metadata": {},
   "source": [
    "#### Demo-function для отправки писем"
   ]
  },
  {
   "cell_type": "code",
   "execution_count": 1,
   "metadata": {},
   "outputs": [
    {
     "name": "stdout",
     "output_type": "stream",
     "text": [
      "Сообщение отправленно!\n",
      "Сообщение отправленно!\n"
     ]
    }
   ],
   "source": [
    "import requests\n",
    "TELEGRAM_TOKEN = \"1116132371:AAHLPsnzlZHTFGoG3tO6fiYDSkVPsnR1Dfw\"\n",
    "CHAT_ID = \"197562409\"\n",
    "def send_telegram_message(subject, text):\n",
    "    \"\"\"Функция для проверки данных и дальнейшей отправки письма\"\"\"\n",
    "    if not subject:\n",
    "        print(\"Эй чувак! Нельзя отправлять письмо без темы(subject)\")\n",
    "        return\n",
    "    if not text:\n",
    "        print(\"Эй чувак! Нельзя отправлять письмо без текста(text)\")\n",
    "        return\n",
    "    message = f\"{subject}\\n{text}\"\n",
    "    resp = requests.post(f\"https://api.telegram.org/bot{TELEGRAM_TOKEN}/sendMessage\", data={\n",
    "        \"chat_id\": CHAT_ID,\n",
    "        \"text\": message\n",
    "    })\n",
    "    if resp.status_code == 200:\n",
    "        print(\"Сообщение отправленно!\")\n",
    "    else:\n",
    "        print(\"Ошибка, код:\", resp.status_code)\n",
    "        print(\"Error info:\", resp.text)\n",
    "    \n",
    "send_telegram_message(\"Новый заказ на сайте\", \"На сайте появился новый заказ на сумму 5000сом\")\n",
    "send_telegram_message(\"Новый пользователь на сайте\", \"На сайте новый пользователь с ником love_love_312\")"
   ]
  },
  {
   "cell_type": "markdown",
   "metadata": {},
   "source": [
    "### Именованные агрументы\n",
    "Это передача аргументов не по их позиции в объявлении функции, а по их названию.\n",
    "\n",
    "Напиример:\n",
    "```python\n",
    "def sum(a, b):\n",
    "    return a + b\n",
    "\n",
    "sum(a=2, b=3) # передаю аргументы по их имени\n",
    "sum(b=2, a=3) # передаю аргументы по их имени\n",
    "```"
   ]
  },
  {
   "cell_type": "code",
   "execution_count": 13,
   "metadata": {},
   "outputs": [
    {
     "name": "stdout",
     "output_type": "stream",
     "text": [
      "sum x=9, y=11, result=20\n",
      "sum x=2, y=3, result=5\n",
      "sum x=3, y=7, result=10\n"
     ]
    }
   ],
   "source": [
    "def sum(x, y):\n",
    "    result = (x + y)\n",
    "    print(f\"sum x={x}, y={y}, result={result}\")\n",
    "    return result\n",
    "\n",
    "nine = 9\n",
    "eleven = 11\n",
    "\n",
    "result1 = sum(nine, eleven)\n",
    "result2 = sum(x=2, y=3)\n",
    "result3 = sum(y=7, x=3)"
   ]
  },
  {
   "cell_type": "markdown",
   "metadata": {},
   "source": [
    "### Значения аргументов по умолчанию\n",
    "\n",
    "В момент объявления функции, мы так же объявляем аргументы этой функции.\n",
    "```python\n",
    "#       👇 Объявление аргументов    \n",
    "#       ____         | 👈 объявление функции\n",
    "def foo(x, y):    #  |\n",
    "    pass          #  |\n",
    "```\n",
    "Мы можем указать значения по умолчанию для аргументов. Делается это с помощью следующего синтаксиса:\n",
    "```python\n",
    "def pow(number, power=2):\n",
    "    i = 0\n",
    "    result = number\n",
    "    while i < power - 1:\n",
    "        result *= result\n",
    "    return result\n",
    "```\n",
    "Вполне логично, что если есть значение по умолчанию для аргумента, то передавать его значение, при вызове функции теперь не обязательно.\n",
    "```python\n",
    "pow(5) # я могу не передавать второй аргумент (power)\n",
    "pow(number=3, power=3) # используя именованные аргументы\n",
    "```"
   ]
  },
  {
   "cell_type": "code",
   "execution_count": 4,
   "metadata": {},
   "outputs": [
    {
     "name": "stdout",
     "output_type": "stream",
     "text": [
      "27\n",
      "25\n"
     ]
    }
   ],
   "source": [
    "def pow(number, power=2):\n",
    "    i = 1\n",
    "    result = number\n",
    "    while i < power:\n",
    "        result *= number\n",
    "        i += 1\n",
    "    return result\n",
    "\n",
    "print(pow(3, 3))\n",
    "print(pow(5))"
   ]
  },
  {
   "cell_type": "markdown",
   "metadata": {},
   "source": [
    "## Функция `sum` с множеством аргументов"
   ]
  },
  {
   "cell_type": "code",
   "execution_count": 2,
   "metadata": {},
   "outputs": [
    {
     "name": "stdout",
     "output_type": "stream",
     "text": [
      "18\n",
      "10\n"
     ]
    }
   ],
   "source": [
    "def sum(a=0, b=0, c=0, d=0, e=0, f=0, g=0):\n",
    "    return a + b + c + d + e + f + g\n",
    "\n",
    "print(sum(4, 5, 9))\n",
    "print(sum(4, 6))"
   ]
  }
 ],
 "metadata": {
  "kernelspec": {
   "display_name": "Python 3",
   "language": "python",
   "name": "python3"
  },
  "language_info": {
   "codemirror_mode": {
    "name": "ipython",
    "version": 3
   },
   "file_extension": ".py",
   "mimetype": "text/x-python",
   "name": "python",
   "nbconvert_exporter": "python",
   "pygments_lexer": "ipython3",
   "version": "3.7.6"
  }
 },
 "nbformat": 4,
 "nbformat_minor": 2
}
