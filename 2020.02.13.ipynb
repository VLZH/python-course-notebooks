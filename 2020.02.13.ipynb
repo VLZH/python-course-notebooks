{
 "cells": [
  {
   "cell_type": "markdown",
   "metadata": {},
   "source": [
    "# Декораторы\n",
    "\n",
    "Это функции высшего порядка, получающие оригинальную функцию и возвращающие функцию-обертку."
   ]
  },
  {
   "cell_type": "code",
   "execution_count": 18,
   "metadata": {},
   "outputs": [
    {
     "name": "stdout",
     "output_type": "stream",
     "text": [
      "Time: 0:00:00.000280\n",
      "9227465\n",
      "36\n"
     ]
    }
   ],
   "source": [
    "from datetime import datetime\n",
    "\n",
    "CACHE = {}\n",
    "\n",
    "def memo(func):\n",
    "    def wrapped_func(*args, **kwargs):\n",
    "        key = str(args) + str(kwargs)\n",
    "        if key in CACHE:\n",
    "            return CACHE[key]\n",
    "        result = func(*args, **kwargs)\n",
    "        CACHE[key] = result\n",
    "        return result\n",
    "    return wrapped_func\n",
    "\n",
    "def time_it(func):\n",
    "    def wrapped_func(*args, **kwargs):\n",
    "        start_time = datetime.now()\n",
    "        result = func(*args, **kwargs) # сколько времени занимает вызов оригинальной функции?\n",
    "        print(f\"Time: {datetime.now() - start_time}\")\n",
    "        return result\n",
    "    return wrapped_func\n",
    "\n",
    "\n",
    "@memo\n",
    "def fib(n):\n",
    "    \"\"\"Функция возвращает n'ое число последовательности Фиббоничи\"\"\"\n",
    "    if n < 2:\n",
    "        return n\n",
    "    return fib(n-1) + fib(n-2)\n",
    "\n",
    "@time_it\n",
    "def t_fib(n):\n",
    "    return fib(n)\n",
    "\n",
    "print(t_fib(35))\n",
    "print(i)"
   ]
  },
  {
   "cell_type": "markdown",
   "metadata": {},
   "source": [
    "# Декоратор `@property`\n",
    "\n",
    "Декоратор позволяет нам добавлять методы-сеттеры и методы-геттеры в класс"
   ]
  },
  {
   "cell_type": "code",
   "execution_count": 31,
   "metadata": {},
   "outputs": [
    {
     "name": "stdout",
     "output_type": "stream",
     "text": [
      "<Person first_name='John' last_name='Dou'>\n",
      "<Person first_name='' last_name=''>\n"
     ]
    }
   ],
   "source": [
    "import re\n",
    "\n",
    "FULLNAME_RE = re.compile(r\"^(?P<first_name>\\w+?)\\s(?P<last_name>\\w+?)$\")\n",
    "\n",
    "class Person():\n",
    "    def __init__(self, first_name, last_name):\n",
    "        self.first_name = first_name\n",
    "        self.last_name = last_name\n",
    "        \n",
    "    def __str__(self):\n",
    "        return f\"<Person first_name='{self.first_name}' last_name='{self.last_name}'>\"\n",
    "    \n",
    "    @property\n",
    "    def fullname(self):\n",
    "        \"\"\" метод-геттер для получения полного имени \"\"\"\n",
    "        return f\"{self.first_name} {self.last_name}\"\n",
    "    \n",
    "    @fullname.setter\n",
    "    def fullname(self, value):\n",
    "        \"\"\" метод-сеттер для установки значения fullname \"\"\"\n",
    "        match = FULLNAME_RE.match(value)\n",
    "        if match:\n",
    "            self.first_name = match.group(\"first_name\")\n",
    "            self.last_name = match.group(\"last_name\")\n",
    "        else:\n",
    "            raise Exception(\"Вы указали некорректное значение для fullname\")\n",
    "            \n",
    "    @fullname.deleter\n",
    "    def fullname(self):\n",
    "        self.first_name = \"\"\n",
    "        self.last_name = \"\"\n",
    "        \n",
    "bob = Person(\"Bob\", \"Dillinger\")\n",
    "bob.fullname = \"John Dou\"\n",
    "print(bob)\n",
    "del bob.fullname\n",
    "print(bob)"
   ]
  },
  {
   "cell_type": "markdown",
   "metadata": {},
   "source": [
    "# Переопределение методов класса"
   ]
  },
  {
   "cell_type": "code",
   "execution_count": 47,
   "metadata": {},
   "outputs": [
    {
     "name": "stdout",
     "output_type": "stream",
     "text": [
      "rectangle aria:  9.0\n",
      "rectangle perimeter 12.0\n"
     ]
    },
    {
     "ename": "Exception",
     "evalue": "Эй парень! Ну это же не квадрат!",
     "output_type": "error",
     "traceback": [
      "\u001b[0;31m---------------------------------------------------------------------------\u001b[0m",
      "\u001b[0;31mException\u001b[0m                                 Traceback (most recent call last)",
      "\u001b[0;32m<ipython-input-47-20aaea87d7ee>\u001b[0m in \u001b[0;36m<module>\u001b[0;34m\u001b[0m\n\u001b[1;32m     37\u001b[0m \u001b[0mprint\u001b[0m\u001b[0;34m(\u001b[0m\u001b[0;34m\"rectangle perimeter\"\u001b[0m\u001b[0;34m,\u001b[0m \u001b[0mr\u001b[0m\u001b[0;34m.\u001b[0m\u001b[0mperimeter\u001b[0m\u001b[0;34m(\u001b[0m\u001b[0;34m)\u001b[0m\u001b[0;34m)\u001b[0m\u001b[0;34m\u001b[0m\u001b[0;34m\u001b[0m\u001b[0m\n\u001b[1;32m     38\u001b[0m \u001b[0;34m\u001b[0m\u001b[0m\n\u001b[0;32m---> 39\u001b[0;31m \u001b[0ms\u001b[0m \u001b[0;34m=\u001b[0m \u001b[0mSquare\u001b[0m\u001b[0;34m(\u001b[0m\u001b[0;34m\"blue\"\u001b[0m\u001b[0;34m,\u001b[0m \u001b[0mc1\u001b[0m\u001b[0;34m=\u001b[0m\u001b[0;34m(\u001b[0m\u001b[0;36m4\u001b[0m\u001b[0;34m,\u001b[0m\u001b[0;36m5\u001b[0m\u001b[0;34m)\u001b[0m\u001b[0;34m,\u001b[0m \u001b[0mc2\u001b[0m\u001b[0;34m=\u001b[0m\u001b[0;34m(\u001b[0m\u001b[0;36m1\u001b[0m\u001b[0;34m,\u001b[0m\u001b[0;36m1\u001b[0m\u001b[0;34m)\u001b[0m\u001b[0;34m)\u001b[0m\u001b[0;34m\u001b[0m\u001b[0;34m\u001b[0m\u001b[0m\n\u001b[0m",
      "\u001b[0;32m<ipython-input-47-20aaea87d7ee>\u001b[0m in \u001b[0;36m__init__\u001b[0;34m(self, *args, **kwargs)\u001b[0m\n\u001b[1;32m     27\u001b[0m     \u001b[0;32mdef\u001b[0m \u001b[0m__init__\u001b[0m\u001b[0;34m(\u001b[0m\u001b[0mself\u001b[0m\u001b[0;34m,\u001b[0m \u001b[0;34m*\u001b[0m\u001b[0margs\u001b[0m\u001b[0;34m,\u001b[0m \u001b[0;34m**\u001b[0m\u001b[0mkwargs\u001b[0m\u001b[0;34m)\u001b[0m\u001b[0;34m:\u001b[0m\u001b[0;34m\u001b[0m\u001b[0;34m\u001b[0m\u001b[0m\n\u001b[1;32m     28\u001b[0m         \u001b[0msuper\u001b[0m\u001b[0;34m(\u001b[0m\u001b[0;34m)\u001b[0m\u001b[0;34m.\u001b[0m\u001b[0m__init__\u001b[0m\u001b[0;34m(\u001b[0m\u001b[0;34m*\u001b[0m\u001b[0margs\u001b[0m\u001b[0;34m,\u001b[0m \u001b[0;34m**\u001b[0m\u001b[0mkwargs\u001b[0m\u001b[0;34m)\u001b[0m\u001b[0;34m\u001b[0m\u001b[0;34m\u001b[0m\u001b[0m\n\u001b[0;32m---> 29\u001b[0;31m         \u001b[0mself\u001b[0m\u001b[0;34m.\u001b[0m\u001b[0m_validate_coords\u001b[0m\u001b[0;34m(\u001b[0m\u001b[0;34m)\u001b[0m\u001b[0;34m\u001b[0m\u001b[0;34m\u001b[0m\u001b[0m\n\u001b[0m\u001b[1;32m     30\u001b[0m \u001b[0;34m\u001b[0m\u001b[0m\n\u001b[1;32m     31\u001b[0m     \u001b[0;32mdef\u001b[0m \u001b[0m_validate_coords\u001b[0m\u001b[0;34m(\u001b[0m\u001b[0mself\u001b[0m\u001b[0;34m)\u001b[0m\u001b[0;34m:\u001b[0m\u001b[0;34m\u001b[0m\u001b[0;34m\u001b[0m\u001b[0m\n",
      "\u001b[0;32m<ipython-input-47-20aaea87d7ee>\u001b[0m in \u001b[0;36m_validate_coords\u001b[0;34m(self)\u001b[0m\n\u001b[1;32m     31\u001b[0m     \u001b[0;32mdef\u001b[0m \u001b[0m_validate_coords\u001b[0m\u001b[0;34m(\u001b[0m\u001b[0mself\u001b[0m\u001b[0;34m)\u001b[0m\u001b[0;34m:\u001b[0m\u001b[0;34m\u001b[0m\u001b[0;34m\u001b[0m\u001b[0m\n\u001b[1;32m     32\u001b[0m         \u001b[0;32mif\u001b[0m \u001b[0mfabs\u001b[0m\u001b[0;34m(\u001b[0m\u001b[0mself\u001b[0m\u001b[0;34m.\u001b[0m\u001b[0mc2\u001b[0m\u001b[0;34m[\u001b[0m\u001b[0;36m0\u001b[0m\u001b[0;34m]\u001b[0m \u001b[0;34m-\u001b[0m \u001b[0mself\u001b[0m\u001b[0;34m.\u001b[0m\u001b[0mc1\u001b[0m\u001b[0;34m[\u001b[0m\u001b[0;36m0\u001b[0m\u001b[0;34m]\u001b[0m\u001b[0;34m)\u001b[0m \u001b[0;34m!=\u001b[0m \u001b[0mfabs\u001b[0m\u001b[0;34m(\u001b[0m\u001b[0mself\u001b[0m\u001b[0;34m.\u001b[0m\u001b[0mc2\u001b[0m\u001b[0;34m[\u001b[0m\u001b[0;36m1\u001b[0m\u001b[0;34m]\u001b[0m \u001b[0;34m-\u001b[0m \u001b[0mself\u001b[0m\u001b[0;34m.\u001b[0m\u001b[0mc1\u001b[0m\u001b[0;34m[\u001b[0m\u001b[0;36m1\u001b[0m\u001b[0;34m]\u001b[0m\u001b[0;34m)\u001b[0m\u001b[0;34m:\u001b[0m\u001b[0;34m\u001b[0m\u001b[0;34m\u001b[0m\u001b[0m\n\u001b[0;32m---> 33\u001b[0;31m             \u001b[0;32mraise\u001b[0m \u001b[0mException\u001b[0m\u001b[0;34m(\u001b[0m\u001b[0;34m\"Эй парень! Ну это же не квадрат!\"\u001b[0m\u001b[0;34m)\u001b[0m\u001b[0;34m\u001b[0m\u001b[0;34m\u001b[0m\u001b[0m\n\u001b[0m\u001b[1;32m     34\u001b[0m \u001b[0;34m\u001b[0m\u001b[0m\n\u001b[1;32m     35\u001b[0m \u001b[0mr\u001b[0m \u001b[0;34m=\u001b[0m \u001b[0mRectangle\u001b[0m\u001b[0;34m(\u001b[0m\u001b[0;34m\"blue\"\u001b[0m\u001b[0;34m,\u001b[0m \u001b[0mc1\u001b[0m\u001b[0;34m=\u001b[0m\u001b[0;34m(\u001b[0m\u001b[0;36m4\u001b[0m\u001b[0;34m,\u001b[0m\u001b[0;36m4\u001b[0m\u001b[0;34m)\u001b[0m\u001b[0;34m,\u001b[0m \u001b[0mc2\u001b[0m\u001b[0;34m=\u001b[0m\u001b[0;34m(\u001b[0m\u001b[0;36m1\u001b[0m\u001b[0;34m,\u001b[0m\u001b[0;36m1\u001b[0m\u001b[0;34m)\u001b[0m\u001b[0;34m)\u001b[0m\u001b[0;34m\u001b[0m\u001b[0;34m\u001b[0m\u001b[0m\n",
      "\u001b[0;31mException\u001b[0m: Эй парень! Ну это же не квадрат!"
     ]
    }
   ],
   "source": [
    "from math import fabs\n",
    "\n",
    "class Shape:\n",
    "    def __init__(self, color):\n",
    "        self.color = color\n",
    "\n",
    "    def aria(self):\n",
    "        raise Exception(\"You must to implement method 'aria' in inherits\")\n",
    "\n",
    "    def perimeter(self):\n",
    "        raise Exception(\"You must to implement method 'perimeter' in inherits\")\n",
    "\n",
    "\n",
    "class Rectangle(Shape):\n",
    "    def __init__(self, *args, c1, c2, **kwargs):\n",
    "        super().__init__(*args, **kwargs)\n",
    "        self.c1 = c1 # (1, 1)\n",
    "        self.c2 = c2 # (4, 4)\n",
    "        \n",
    "    def aria(self):\n",
    "        return (fabs(self.c2[0] - self.c1[0])) * (fabs(self.c2[1] - self.c1[1]))\n",
    "    \n",
    "    def perimeter(self):\n",
    "        return (fabs(self.c2[0] - self.c1[0]) + fabs(self.c2[1] - self.c1[1])) * 2\n",
    "    \n",
    "class Square(Rectangle):\n",
    "    def __init__(self, *args, **kwargs):\n",
    "        super().__init__(*args, **kwargs)\n",
    "        self._validate_coords()\n",
    "        \n",
    "    def _validate_coords(self):\n",
    "        if fabs(self.c2[0] - self.c1[0]) != fabs(self.c2[1] - self.c1[1]):\n",
    "            raise Exception(\"Эй друг! Ну это же не квадрат!\")\n",
    "    \n",
    "r = Rectangle(\"blue\", c1=(4,4), c2=(1,1))\n",
    "print(\"rectangle aria: \", r.aria())\n",
    "print(\"rectangle perimeter\", r.perimeter())\n",
    "\n",
    "s = Square(\"blue\", c1=(4,5), c2=(1,1))"
   ]
  }
 ],
 "metadata": {
  "kernelspec": {
   "display_name": "Python 3",
   "language": "python",
   "name": "python3"
  },
  "language_info": {
   "codemirror_mode": {
    "name": "ipython",
    "version": 3
   },
   "file_extension": ".py",
   "mimetype": "text/x-python",
   "name": "python",
   "nbconvert_exporter": "python",
   "pygments_lexer": "ipython3",
   "version": "3.7.6"
  }
 },
 "nbformat": 4,
 "nbformat_minor": 2
}
