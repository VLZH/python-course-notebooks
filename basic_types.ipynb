{
 "cells": [
  {
   "cell_type": "markdown",
   "metadata": {},
   "source": [
    "# Boolean (`bool`)"
   ]
  },
  {
   "cell_type": "code",
   "execution_count": 4,
   "metadata": {},
   "outputs": [
    {
     "name": "stdout",
     "output_type": "stream",
     "text": [
      "0\n",
      "1\n",
      "0\n",
      "2\n"
     ]
    }
   ],
   "source": [
    "print(int(False)) # 0\n",
    "print(int(True)) # 1\n",
    "\n",
    "print(False + False) # 0\n",
    "print(True + True) # 2"
   ]
  },
  {
   "cell_type": "markdown",
   "metadata": {},
   "source": [
    "# None\n",
    "Если `False` обозначение отрицание, то `None` обозначает отсутствие чего-либо.\n",
    "\n",
    "```python\n",
    "def foo():\n",
    "    pass\n",
    "\n",
    "bar = foo()\n",
    "print(bar) # None\n",
    "```"
   ]
  },
  {
   "cell_type": "markdown",
   "metadata": {},
   "source": [
    "## Sequnce (последовательность)\n",
    "Как понятно из названия, последовательность - это последовательность каких-то значений. Если мы говорим про **строки**, то это последовательность символов в какой-то кодировке. А если говорим, про **кортеж** - это последовательность произвольных значений.\n",
    "\n",
    "Существуют изменяемые(mutable) последовательности и неизменяемые(immutable).\n",
    "\n",
    "### Строки\n",
    "Strings are immutable sequences of Unicode code points."
   ]
  },
  {
   "cell_type": "code",
   "execution_count": 5,
   "metadata": {},
   "outputs": [],
   "source": [
    "s1 = \"Hello\"\n",
    "s2 = \"World\""
   ]
  },
  {
   "cell_type": "code",
   "execution_count": 8,
   "metadata": {},
   "outputs": [
    {
     "name": "stdout",
     "output_type": "stream",
     "text": [
      "HelloWorld\n",
      "Hello World\n",
      "HelloHelloHello\n"
     ]
    }
   ],
   "source": [
    "# Конкатенация строк (объединение)\n",
    "s3 = s1 + s2\n",
    "print(s3) # HelloWorld\n",
    "s4 = s1 + \" \" + s2\n",
    "print(s4) # Hello World\n",
    "#\n",
    "print(s1 * 3) # HelloHelloHello"
   ]
  },
  {
   "cell_type": "code",
   "execution_count": 17,
   "metadata": {},
   "outputs": [
    {
     "name": "stdout",
     "output_type": "stream",
     "text": [
      "HeLLo\n",
      "Hello\n",
      "True\n",
      "3\n",
      "0\n",
      "True\n",
      "sdjflj  sdjf\n",
      "    sdjflj  sdjf\n",
      "sdjflj  sdjf       \n",
      "['Применение', 'IMS', 'QTI', 'в', 'электронных', 'курсах', 'в', 'формате', 'ePUB']\n"
     ]
    }
   ],
   "source": [
    "# Методы строк\n",
    "print(s1.replace(\"l\", \"L\")) # HeLLo\n",
    "print(s1.capitalize()) # HELLO\n",
    "print(s1.endswith(\"llo\")) # True\n",
    "print(s3.index(\"lo\")) # 3\n",
    "\n",
    "print(s3.find(\"Hello\")) # 0\n",
    "print(\"Hello\" in s3) # True\n",
    "\n",
    "# strip\n",
    "print(\"    sdjflj  sdjf       \".strip())\n",
    "print(\"    sdjflj  sdjf       \".rstrip())\n",
    "print(\"    sdjflj  sdjf       \".lstrip())\n",
    "\n",
    "# split\n",
    "s5 = \"Применение IMS QTI в электронных курсах в формате ePUB\"\n",
    "print(s5.split(\" \"))"
   ]
  },
  {
   "cell_type": "markdown",
   "metadata": {},
   "source": [
    "### List (Список)\n",
    "Это коллекция/последовательность, которая позволяет хранить множество объектов.\n",
    "\n",
    "#### Объявление списка\n",
    "```python\n",
    "foo = [1, \"hello\", 3.14, True]\n",
    "bar = list(1, \"hello\", 3.14, True)\n",
    "```\n",
    "\n",
    "####  Методы списков\n",
    "\n",
    "- `list.append()` - Добавить объект в список\n",
    "- `list.insert(i, x)` - Добавить значение `x` по индексу `i`\n",
    "- `list.extend(i, x)` - Расширить последовательность другой последовательностью\n",
    "- `list.pop(index)` - Вытащить объект из списка (по умолчанию с конца). Значит что значение будет удалено из списка и возвращено как результат вызова метода.\n",
    "- `list.remove(el)` - Удалить значение из списка.\n",
    "- `list.clear()` - Удалить все значения из списка\n",
    "\n",
    "#### Оператор `[]`\n",
    "Используется для получения значения по индексу или изменения значения по индексу. Для получения значения по индексу `1` из последовательности `foo` следует написать следующий код:\n",
    "```python\n",
    "foo[1]\n",
    "```\n",
    "\n",
    "##### Примеры получения по индексу:\n",
    "```python\n",
    "some_list = [ \"H\", \"e\", \"l\", \"l\", \"o\" ]\n",
    "some_list[1] # e\n",
    "some_list[4] # o\n",
    "```\n",
    "\n",
    "##### Примеры изменения по индексу:\n",
    "```python\n",
    "some_list = [ \"H\", \"e\", \"l\", \"l\", \"o\" ]\n",
    "some_list[4] = \"0\"\n",
    "print(some_list) # [\"H\", \"e\", \"l\", \"l\", \"0\"]\n",
    "```\n",
    "\n",
    "##### Удаление по индексу (Оператор `del`)\n",
    "```python\n",
    "some_list = [ \"H\", \"e\", \"l\", \"l\", \"o\" ]\n",
    "del some_list[0]\n",
    "print(some_list) # [\"e\", \"l\", \"l\", \"o\"]\n",
    "```"
   ]
  },
  {
   "cell_type": "code",
   "execution_count": 8,
   "metadata": {},
   "outputs": [
    {
     "name": "stdout",
     "output_type": "stream",
     "text": [
      "foo[0]: 1\n",
      "foo: [10, 2, 3]\n"
     ]
    }
   ],
   "source": [
    "#      0, 1, 2, 3\n",
    "foo = [1, 2, 3, 4]\n",
    "# Положить значение   \n",
    "foo.append(5)   # Текущее значение [1, 2, 3, 4, 5]\n",
    "# Удалить значение из списка по индексу\n",
    "del foo[3] #  Текущее значение [1, 2, 3, 5]\n",
    "# Удалить значение из списка по значению\n",
    "foo.remove(5)  # Текущее значение [1, 2, 3]\n",
    "# Получить значение из списка\n",
    "print(\"foo[0]:\", foo[0])\n",
    "# Изменить значение в списке\n",
    "foo[0] = 10  #Текущее значение [10, 2, 3]\n",
    "print(\"foo:\", foo)"
   ]
  },
  {
   "cell_type": "markdown",
   "metadata": {},
   "source": [
    "### Кортежи (`tuple`)\n",
    "Можно воспринимать как `list`, но он неизменяемый.\n",
    "Для объявления `tuple` используются круглые скобки `()`.\n",
    "```python\n",
    "some_tuple = (1, 2, 3)\n",
    "```\n",
    "`tuple` можно объявить без круглых скобок\n",
    "```python\n",
    "some_tuple = 1, 2, 3\n",
    "```\n",
    "С таким синтаксисом, вам будет проще вернуть несколько значений из функции\n",
    "```python\n",
    "def foo():\n",
    "    return 1, 2\n",
    "x, y = foo()\n",
    "print(x, y)\n",
    "```"
   ]
  },
  {
   "cell_type": "code",
   "execution_count": 13,
   "metadata": {},
   "outputs": [
    {
     "name": "stdout",
     "output_type": "stream",
     "text": [
      "1\n"
     ]
    },
    {
     "ename": "TypeError",
     "evalue": "'tuple' object doesn't support item deletion",
     "output_type": "error",
     "traceback": [
      "\u001b[0;31m---------------------------------------------------------------------------\u001b[0m",
      "\u001b[0;31mTypeError\u001b[0m                                 Traceback (most recent call last)",
      "\u001b[0;32m<ipython-input-13-71db30345bfc>\u001b[0m in \u001b[0;36m<module>\u001b[0;34m\u001b[0m\n\u001b[1;32m      1\u001b[0m \u001b[0msome_tuple\u001b[0m \u001b[0;34m=\u001b[0m \u001b[0;34m(\u001b[0m\u001b[0;36m1\u001b[0m\u001b[0;34m,\u001b[0m \u001b[0;36m2\u001b[0m\u001b[0;34m,\u001b[0m \u001b[0;36m3\u001b[0m\u001b[0;34m)\u001b[0m\u001b[0;34m\u001b[0m\u001b[0;34m\u001b[0m\u001b[0m\n\u001b[1;32m      2\u001b[0m \u001b[0mprint\u001b[0m\u001b[0;34m(\u001b[0m\u001b[0msome_tuple\u001b[0m\u001b[0;34m[\u001b[0m\u001b[0;36m0\u001b[0m\u001b[0;34m]\u001b[0m\u001b[0;34m)\u001b[0m\u001b[0;34m\u001b[0m\u001b[0;34m\u001b[0m\u001b[0m\n\u001b[0;32m----> 3\u001b[0;31m \u001b[0;32mdel\u001b[0m \u001b[0msome_tuple\u001b[0m\u001b[0;34m[\u001b[0m\u001b[0;36m0\u001b[0m\u001b[0;34m]\u001b[0m\u001b[0;34m\u001b[0m\u001b[0;34m\u001b[0m\u001b[0m\n\u001b[0m",
      "\u001b[0;31mTypeError\u001b[0m: 'tuple' object doesn't support item deletion"
     ]
    }
   ],
   "source": [
    "some_tuple = (1, 2, 3)\n",
    "#       first_name\n",
    "#       |        last name\n",
    "#       |        |      age\n",
    "#       |        |      |     sex\n",
    "user = (\"First\", \"Last\", 23, \"male\")"
   ]
  },
  {
   "cell_type": "code",
   "execution_count": 14,
   "metadata": {},
   "outputs": [
    {
     "name": "stdout",
     "output_type": "stream",
     "text": [
      "1 2\n"
     ]
    }
   ],
   "source": [
    "def foo():\n",
    "    return 1, 2\n",
    "x, y = foo()\n",
    "print(x, y)"
   ]
  },
  {
   "cell_type": "markdown",
   "metadata": {},
   "source": [
    "## Оператор `for in`\n",
    "\n",
    "Предназначен для итерации по последовательности. Значит, что для прохождения по всем значениям последовательности. Надо понимать, что это оператор цикла.\n",
    "\n",
    "```python\n",
    "some_string = \"Hello world!\"\n",
    "for i in some_string:\n",
    "    print(i)\n",
    "```\n",
    "\n",
    "> #### Можете прочитывать конструкцию как:\n",
    ">\n",
    ">  Выполни следующие инструкции для каждого значения в последовательности. \n",
    "\n",
    "#### Синтаксис конструкции\n",
    "```\n",
    "for <name> in <sequance>:\n",
    "    <...statements>\n",
    "```\n",
    "\n",
    "- `<name>` - имя переменно для для каждого значения последовательности\n",
    "- `<sequance>` - имя переменно для для каждого значения последовательности\n",
    "- `<...statements>` - инструкции которые будут выполняться на каждой итерации"
   ]
  },
  {
   "cell_type": "code",
   "execution_count": 3,
   "metadata": {},
   "outputs": [
    {
     "name": "stdout",
     "output_type": "stream",
     "text": [
      "H\n",
      "e\n",
      "l\n",
      "l\n",
      "o\n",
      " \n",
      "w\n",
      "o\n",
      "r\n",
      "l\n",
      "d\n",
      "!\n",
      "HELLO WORLD!\n"
     ]
    }
   ],
   "source": [
    "some_string = \"Hello world!\"\n",
    "\n",
    "for i in some_string:\n",
    "    print(i)"
   ]
  },
  {
   "cell_type": "markdown",
   "metadata": {},
   "source": [
    "## Класс `range`\n",
    "\n",
    "Используется для генерации последовательности чисел.\n",
    "\n",
    "```python\n",
    "def range(start=0, end, step=1):\n",
    "    ...\n",
    "```\n",
    "\n",
    "#### Аргументы конструктора (_функции_)\n",
    "- `start` - начало последовательности (По умолчанию - `0`)\n",
    "- `end` - конец последовательности (Не включительно)\n",
    "- `step` - с каким шагом генерировать последовательность\n",
    "\n",
    "> #### Обратите внимание\n",
    "> Аргумент `step` может быть отрицательным, точно так же `start` может быть больше чем `end`.\n",
    "> ```python\n",
    "> #             👇 - start\n",
    "> #              | 👇 - end\n",
    "> #              |  |  👇 - step\n",
    "> for i in range(5, 0, -1):\n",
    ">     print(i) # [5, 4, 3, 2, 1]\n",
    "> ```"
   ]
  },
  {
   "cell_type": "code",
   "execution_count": 15,
   "metadata": {
    "collapsed": true
   },
   "outputs": [
    {
     "name": "stdout",
     "output_type": "stream",
     "text": [
      "0\n",
      "1\n",
      "2\n",
      "3\n",
      "4\n",
      "5\n",
      "6\n",
      "7\n",
      "8\n",
      "9\n"
     ]
    }
   ],
   "source": [
    "for i in range(0, 10):\n",
    "    print(i)"
   ]
  },
  {
   "cell_type": "markdown",
   "metadata": {},
   "source": [
    "## Оператор `in`/`not in` \n",
    "Позволяет проверить нахождение элементов в последовательности. Например узнать.. содержит ли список `[\"Hello\", \"world\"]` строку `world`.\n",
    "\n",
    "```python\n",
    "l = [\"Hello\", \"world\"]\n",
    "print(\"Hello\" in l) # True\n",
    "print(\"Olleh\" in l) # False\n",
    "s = \"very very long string\"\n",
    "print(\"very\" in s) # True\n",
    "```"
   ]
  },
  {
   "cell_type": "code",
   "execution_count": 18,
   "metadata": {},
   "outputs": [
    {
     "name": "stdout",
     "output_type": "stream",
     "text": [
      "Какое слово вы ищите?из\n",
      "Введенное вами слово присутствует\n"
     ]
    }
   ],
   "source": [
    "WORDS = [\n",
    "    \"Но\",\n",
    "    \"как\",\n",
    "    \"видите\",\n",
    "    \"из\",\n",
    "    \"кода\",\n",
    "    \"вы\",\n",
    "    \"долны\",\n",
    "    \"так\",\n",
    "    \"же\",\n",
    "    \"указать\",\n",
    "    \"кодировку\",\n",
    "]\n",
    "word = input(\"Какое слово вы ищите?\")\n",
    "if word in WORDS:\n",
    "    print(\"Введенное вами слово присутствует\")\n",
    "else:\n",
    "    print(\"Такого слова нет\")"
   ]
  }
 ],
 "metadata": {
  "kernelspec": {
   "display_name": "Python 3",
   "language": "python",
   "name": "python3"
  },
  "language_info": {
   "codemirror_mode": {
    "name": "ipython",
    "version": 3
   },
   "file_extension": ".py",
   "mimetype": "text/x-python",
   "name": "python",
   "nbconvert_exporter": "python",
   "pygments_lexer": "ipython3",
   "version": "3.7.6"
  }
 },
 "nbformat": 4,
 "nbformat_minor": 2
}
