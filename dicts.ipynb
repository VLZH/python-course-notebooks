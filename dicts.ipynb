{
 "cells": [
  {
   "cell_type": "markdown",
   "metadata": {},
   "source": [
    "# Словари/map (`dict`)\n",
    "\n",
    "Словарь - это тип данных, хранящий пары `ключ:значение`. Для объявления используется `литерал словаря`.\n",
    "\n",
    "```python\n",
    "user = {\n",
    "    \"first_name\": \"Bob\",\n",
    "    \"last_name\": \"Dow\",\n",
    "    \"age\": 33,\n",
    "    \"position\": \"worker\"\n",
    "}\n",
    "```\n",
    "\n",
    "Ключами словаря могут быть любые хешируемые(`hashable`) объекты(`неизменяемые`).\n",
    "\n",
    "```python\n",
    "dict1 = {\n",
    "    5: \"value1\",\n",
    "    (1,2,3): \"value2\",\n",
    "    \"key\": \"value3\",\n",
    "    b\"abc\": \"value4\",\n",
    "    3.14: \"value5\"\n",
    "}\n",
    "```\n",
    "\n",
    "#### Пример"
   ]
  },
  {
   "cell_type": "code",
   "execution_count": 10,
   "metadata": {},
   "outputs": [
    {
     "name": "stdout",
     "output_type": "stream",
     "text": [
      "New key 'if'\n",
      "New key 'key'\n",
      "New key 'is'\n",
      "New key 'in'\n",
      "New key 'the'\n",
      "New key 'dictionary,'\n",
      "New key 'remove'\n",
      "New key 'it'\n",
      "New key 'and'\n",
      "New key 'return'\n",
      "New key 'its'\n",
      "New key 'value,'\n",
      "New key 'else'\n",
      "Incease count for 'return'\n",
      "New key 'default.'\n",
      "Incease count for 'if'\n",
      "New key 'default'\n",
      "Incease count for 'is'\n",
      "New key 'not'\n",
      "New key 'given'\n",
      "Incease count for 'and'\n",
      "Incease count for 'key'\n",
      "Incease count for 'is'\n",
      "Incease count for 'not'\n",
      "Incease count for 'in'\n",
      "Incease count for 'the'\n",
      "Incease count for 'dictionary,'\n",
      "New key 'a'\n",
      "New key 'keyerror'\n",
      "Incease count for 'is'\n",
      "New key 'raised.'\n",
      "POPULAR_WORDS: {'if': 2, 'key': 2, 'is': 4, 'in': 2, 'the': 2, 'dictionary,': 2, 'remove': 1, 'it': 1, 'and': 2, 'return': 2, 'its': 1, 'value,': 1, 'else': 1, 'default.': 1, 'default': 1, 'not': 2, 'given': 1, 'a': 1, 'keyerror': 1, 'raised.': 1}\n"
     ]
    }
   ],
   "source": [
    "SOME_TEXT = \"If key is in the dictionary, remove it and return its value, else return default. If default is not given and key is not in the dictionary, a KeyError is raised.\"\n",
    "\n",
    "POPULAR_CHARS = {}\n",
    "POPULAR_WORDS = {}\n",
    "\n",
    "for char in SOME_TEXT:\n",
    "    if char in POPULAR_CHARS:\n",
    "        POPULAR_CHARS[char] += 1\n",
    "    else:\n",
    "        POPULAR_CHARS[char] = 1\n",
    "\n",
    "for word in SOME_TEXT.split(\" \"):\n",
    "    word = word.lower()\n",
    "    if word in POPULAR_WORDS:\n",
    "        print(f\"Incease count for '{word}'\")\n",
    "        POPULAR_WORDS[word] += 1\n",
    "    else:\n",
    "        print(f\"New key '{word}'\")\n",
    "        POPULAR_WORDS[word] = 1\n",
    "        \n",
    "# print(\"POPULAR_CHARS:\", POPULAR_CHARS)\n",
    "print(\"POPULAR_WORDS:\", POPULAR_WORDS)"
   ]
  },
  {
   "cell_type": "code",
   "execution_count": 1,
   "metadata": {},
   "outputs": [
    {
     "name": "stdout",
     "output_type": "stream",
     "text": [
      "{5: 'value1', (1, 2, 3): 'value2', 'key': 'value3', b'abc': 'value4', 3.14: 'value5'}\n"
     ]
    }
   ],
   "source": [
    "dict1 = {\n",
    "    5: \"value1\",\n",
    "    (1,2,3): \"value2\",\n",
    "    \"key\": \"value3\",\n",
    "    b\"abc\": \"value4\",\n",
    "    3.14: \"value5\"\n",
    "}\n",
    "print(dict1)"
   ]
  },
  {
   "cell_type": "markdown",
   "metadata": {},
   "source": [
    "## Получение значений из словаря\n",
    "\n",
    "Для получения значения из словаря, мы можем использовать оператор **получения значения по ключу**(`[]`).\n",
    "\n",
    "#### Пример:\n",
    "```python\n",
    "dict1 = {\n",
    "    \"key\": \"value1\",\n",
    "    \"key2\": \"value2\"\n",
    "}\n",
    "print(dict1[\"key\"]) # value1\n",
    "```\n",
    "\n",
    "Для получения значения так же имеется специальный метод `get(key, default=None)`.\n",
    "\n",
    "#### Пример:\n",
    "```python\n",
    "dict1 = {\n",
    "    \"key\": \"value1\",\n",
    "    \"key2\": \"value2\"\n",
    "}\n",
    "print(dict1.get(\"key2\")) # value2\n",
    "````\n",
    "\n",
    "Метод `get` вторым параметром получает значение по умолчанию, если ключ отсутствует в словаре.\n",
    "\n",
    "#### Пример:\n",
    "```python\n",
    "dict1 = {\n",
    "    \"key\": \"value\",\n",
    "}\n",
    "print(dict1.get(\"undefined_key\", \"default_value\")) # default_value\n",
    "```"
   ]
  },
  {
   "cell_type": "code",
   "execution_count": 8,
   "metadata": {
    "scrolled": true
   },
   "outputs": [
    {
     "name": "stdout",
     "output_type": "stream",
     "text": [
      "value2\n",
      "value1\n",
      "default_value\n"
     ]
    }
   ],
   "source": [
    "dict1 = {\n",
    "    \"key\": \"value1\",\n",
    "    \"key2\": \"value2\"\n",
    "}\n",
    "print(dict1[\"key2\"])\n",
    "print(dict1.get(\"key\"))\n",
    "print(dict1.get(\"undefined_key\", \"default_value\"))"
   ]
  },
  {
   "cell_type": "code",
   "execution_count": 2,
   "metadata": {
    "scrolled": true
   },
   "outputs": [
    {
     "name": "stdout",
     "output_type": "stream",
     "text": [
      "0\n",
      "1\n",
      "2\n",
      "3\n",
      "4\n",
      "5\n",
      "6\n",
      "7\n",
      "8\n",
      "9\n",
      "10\n",
      "11\n",
      "12\n",
      "13\n",
      "14\n",
      "15\n",
      "16\n",
      "17\n",
      "18\n",
      "19\n",
      "20\n",
      "21\n",
      "22\n",
      "23\n",
      "24\n",
      "25\n",
      "26\n",
      "27\n",
      "28\n",
      "29\n",
      "30\n",
      "31\n",
      "32\n",
      "33\n",
      "34\n",
      "35\n",
      "36\n",
      "37\n",
      "38\n",
      "39\n",
      "40\n",
      "41\n",
      "42\n",
      "43\n",
      "44\n",
      "45\n",
      "46\n",
      "47\n",
      "48\n",
      "49\n",
      "50\n",
      "51\n",
      "52\n",
      "53\n",
      "54\n",
      "55\n",
      "56\n",
      "57\n",
      "58\n",
      "59\n",
      "60\n",
      "61\n",
      "62\n",
      "63\n",
      "64\n",
      "65\n",
      "66\n",
      "67\n",
      "68\n",
      "69\n",
      "70\n",
      "71\n",
      "72\n",
      "73\n",
      "74\n",
      "75\n",
      "76\n",
      "77\n",
      "78\n",
      "79\n",
      "80\n",
      "81\n",
      "82\n",
      "83\n",
      "84\n",
      "85\n",
      "86\n",
      "87\n",
      "88\n",
      "89\n",
      "90\n",
      "91\n",
      "92\n",
      "93\n",
      "94\n",
      "95\n",
      "96\n",
      "97\n",
      "98\n",
      "99\n"
     ]
    }
   ],
   "source": [
    "while i < 100:\n",
    "    print(i)\n",
    "    i += 1"
   ]
  },
  {
   "cell_type": "markdown",
   "metadata": {},
   "source": [
    "## Изменение и добавление пар `ключ:значение`\n",
    "\n",
    "Синтаксис для добавления и изменения значения по ключу одинаковый. Если ключ уже присутствует в словаре - мы выполняем операцию изменения значения.\n",
    "```python\n",
    "dict1[\"key3\"] = \"value3\"\n",
    "```"
   ]
  },
  {
   "cell_type": "code",
   "execution_count": 4,
   "metadata": {},
   "outputs": [
    {
     "name": "stdout",
     "output_type": "stream",
     "text": [
      "{'key1': 'value1', 'key2': 'value2', 'key3': 'value3', 'key4': 'value4'}\n"
     ]
    }
   ],
   "source": [
    "dict1 = {\n",
    "    \"key1\": \"value1\",\n",
    "    \"key2\": \"value2\"\n",
    "}\n",
    "dict1[\"key3\"] = \"value3\"\n",
    "print(dict1)"
   ]
  },
  {
   "cell_type": "markdown",
   "metadata": {},
   "source": [
    "## Удаление значения(`del`)\n",
    "\n",
    "```python\n",
    "del dict[\"key3\"]\n",
    "```"
   ]
  },
  {
   "cell_type": "code",
   "execution_count": 6,
   "metadata": {},
   "outputs": [
    {
     "name": "stdout",
     "output_type": "stream",
     "text": [
      "{'key1': 'value1'}\n"
     ]
    }
   ],
   "source": [
    "dict1 = {\n",
    "    \"key1\": \"value1\",\n",
    "    \"key2\": \"value2\"\n",
    "}\n",
    "del dict1[\"key2\"]\n",
    "print(dict1)"
   ]
  },
  {
   "cell_type": "markdown",
   "metadata": {},
   "source": [
    "## Методы словаря\n",
    "\n",
    "- `dict.keys()` - возвращает список ключей в словаре\n",
    "- `dict.values()` - возвращает список значений в словаре\n",
    "- `dict.item()` - возвращает список пар `ключ:значение`(_кортежей_)"
   ]
  },
  {
   "cell_type": "code",
   "execution_count": 11,
   "metadata": {},
   "outputs": [
    {
     "name": "stdout",
     "output_type": "stream",
     "text": [
      "dict.keys():  dict_keys(['a', 'b', 'c'])\n",
      "dict.values(): dict_values([1, 2, 3])\n",
      "dict.items(): dict_items([('a', 1), ('b', 2), ('c', 3)])\n"
     ]
    }
   ],
   "source": [
    "some_dict = {\n",
    "    \"a\": 1,\n",
    "    \"b\": 2,\n",
    "    \"c\": 3\n",
    "}\n",
    "\n",
    "print(\"dict.keys(): \", some_dict.keys())\n",
    "print(\"dict.values():\", some_dict.values())\n",
    "print(\"dict.items():\", some_dict.items())"
   ]
  }
 ],
 "metadata": {
  "kernelspec": {
   "display_name": "Python 3",
   "language": "python",
   "name": "python3"
  },
  "language_info": {
   "codemirror_mode": {
    "name": "ipython",
    "version": 3
   },
   "file_extension": ".py",
   "mimetype": "text/x-python",
   "name": "python",
   "nbconvert_exporter": "python",
   "pygments_lexer": "ipython3",
   "version": "3.7.6"
  }
 },
 "nbformat": 4,
 "nbformat_minor": 2
}
