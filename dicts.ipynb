{
 "cells": [
  {
   "cell_type": "markdown",
   "metadata": {},
   "source": [
    "# Словари/map (`dict`)\n",
    "\n",
    "Словарь - это тип данных, хранящий пары `ключ:значение`. Для объявления используется `литерал словаря`.\n",
    "\n",
    "```python\n",
    "user = {\n",
    "    \"first_name\": \"Bob\",\n",
    "    \"last_name\": \"Dow\",\n",
    "    \"age\": 33,\n",
    "    \"position\": \"worker\"\n",
    "}\n",
    "```\n",
    "\n",
    "Ключами словаря могут быть любые хешируемые объекты(`неизменяемые`).\n",
    "\n",
    "```python\n",
    "dict1 = {\n",
    "    5: \"value1\",\n",
    "    (1,2,3): \"value2\",\n",
    "    \"key\": \"value3\",\n",
    "    b\"abc\": \"value4\",\n",
    "    3.14: \"value5\"\n",
    "}\n",
    "```\n"
   ]
  },
  {
   "cell_type": "code",
   "execution_count": 8,
   "metadata": {},
   "outputs": [
    {
     "name": "stdout",
     "output_type": "stream",
     "text": [
      "{5: 'value1', (1, 2, 3): 'value2', 'key': 'value3', b'abc': 'value4', 3.14: 'value5'}\n"
     ]
    }
   ],
   "source": [
    "dict1 = {\n",
    "    5: \"value1\",\n",
    "    (1,2,3): \"value2\",\n",
    "    \"key\": \"value3\",\n",
    "    b\"abc\": \"value4\",\n",
    "    3.14: \"value5\"\n",
    "}\n",
    "print(dict1)"
   ]
  },
  {
   "cell_type": "markdown",
   "metadata": {},
   "source": [
    "## Получение значений из словаря\n",
    "\n",
    "Для получения значения из словаря, мы можем использовать оператор **получения значения по ключу**(`[]`).\n",
    "\n",
    "#### Пример:\n",
    "```python\n",
    "dict1 = {\n",
    "    \"key\": \"value1\",\n",
    "    \"key2\": \"value2\"\n",
    "}\n",
    "print(dict1[\"key\"]) # value1\n",
    "```\n",
    "\n",
    "Для получения значения так же имеется специальный метод `get(key, default=None)`.\n",
    "\n",
    "#### Пример:\n",
    "```python\n",
    "dict1 = {\n",
    "    \"key\": \"value1\",\n",
    "    \"key2\": \"value2\"\n",
    "}\n",
    "print(dict1.get(\"key2\")) # value2\n",
    "````\n",
    "\n",
    "Метод `get` вторым параметром получает значение по умолчанию, если ключ отсутствует в словаре.\n",
    "\n",
    "#### Пример:\n",
    "```python\n",
    "dict1 = {\n",
    "    \"key\": \"value\",\n",
    "}\n",
    "print(dict1.get(\"undefined_key\", \"default_value\")) # default_value\n",
    "```"
   ]
  },
  {
   "cell_type": "code",
   "execution_count": 7,
   "metadata": {},
   "outputs": [
    {
     "name": "stdout",
     "output_type": "stream",
     "text": [
      "value1\n",
      "value2\n",
      "default_value\n"
     ]
    }
   ],
   "source": [
    "dict1 = {\n",
    "    \"key\": \"value1\",\n",
    "    \"key2\": \"value2\"\n",
    "}\n",
    "print(dict1[\"key\"])\n",
    "print(dict1.get(\"key2\"))\n",
    "print(dict1.get(\"undefined_key\", \"default_value\"))\n"
   ]
  },
  {
   "cell_type": "code",
   "execution_count": null,
   "metadata": {},
   "outputs": [],
   "source": []
  }
 ],
 "metadata": {
  "kernelspec": {
   "display_name": "Python 3",
   "language": "python",
   "name": "python3"
  },
  "language_info": {
   "codemirror_mode": {
    "name": "ipython",
    "version": 3
   },
   "file_extension": ".py",
   "mimetype": "text/x-python",
   "name": "python",
   "nbconvert_exporter": "python",
   "pygments_lexer": "ipython3",
   "version": "3.7.6"
  }
 },
 "nbformat": 4,
 "nbformat_minor": 2
}
