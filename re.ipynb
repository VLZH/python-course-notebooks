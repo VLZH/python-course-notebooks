{
 "cells": [
  {
   "cell_type": "markdown",
   "metadata": {},
   "source": [
    "## Module `re` для работы с регулярками\n",
    "\n",
    "- `re.Pattern` - объект шаблона\n",
    "- `re.Match` - объект совпадения\n",
    "\n",
    "+ Модуль предоставляет ряд функций для работы с регулярными выражениями"
   ]
  },
  {
   "cell_type": "code",
   "execution_count": 19,
   "metadata": {},
   "outputs": [
    {
     "name": "stdout",
     "output_type": "stream",
     "text": [
      "<re.Match object; span=(1, 7), match='@vzlh,'>\n",
      "None\n",
      "[('vzlh', ','), ('agent777', ' '), ('vzlh', ' '), ('agent777', '')]\n",
      "vzlh\n",
      "agent777\n",
      "vzlh\n",
      "agent777\n"
     ]
    }
   ],
   "source": [
    "import re\n",
    "\n",
    "TEXT = \" @vzlh, Привет_как дела! @agent777 Вот тебе ссылка: https://google.com/ #1235432 @vzlh @agent777\"\n",
    "TEXT_USERNAME = \"@username\"\n",
    "\n",
    "USERNAME_RE = re.compile(r\"@([a-zA-Z0-9]+)(\\s|$|\\W)\")\n",
    "\n",
    "print(USERNAME_RE.search(TEXT))\n",
    "print(USERNAME_RE.match(TEXT))\n",
    "# print(USERNAME_RE.fullmatch(TEXT_USERNAME))\n",
    "print(USERNAME_RE.findall(TEXT))\n",
    "for match in USERNAME_RE.finditer(TEXT):\n",
    "    print(match.group(1))\n",
    "    "
   ]
  }
 ],
 "metadata": {
  "kernelspec": {
   "display_name": "Python 3",
   "language": "python",
   "name": "python3"
  },
  "language_info": {
   "codemirror_mode": {
    "name": "ipython",
    "version": 3
   },
   "file_extension": ".py",
   "mimetype": "text/x-python",
   "name": "python",
   "nbconvert_exporter": "python",
   "pygments_lexer": "ipython3",
   "version": "3.7.6"
  }
 },
 "nbformat": 4,
 "nbformat_minor": 2
}
